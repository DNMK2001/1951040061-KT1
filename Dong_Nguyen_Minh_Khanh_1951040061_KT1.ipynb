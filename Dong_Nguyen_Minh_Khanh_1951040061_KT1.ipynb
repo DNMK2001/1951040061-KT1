{
  "nbformat": 4,
  "nbformat_minor": 0,
  "metadata": {
    "colab": {
      "name": "Dong Nguyen Minh Khanh-1951040061-KT1.ipynb",
      "provenance": [],
      "collapsed_sections": []
    },
    "kernelspec": {
      "name": "python3",
      "display_name": "Python 3"
    },
    "language_info": {
      "name": "python"
    }
  },
  "cells": [
    {
      "cell_type": "markdown",
      "metadata": {
        "id": "_rfRjbXlBlMh"
      },
      "source": [
        "**Bài thực hành lập trình lần 1**"
      ]
    },
    {
      "cell_type": "markdown",
      "metadata": {
        "id": "6pw0PE_oBxet"
      },
      "source": [
        "**Yêu cầu ban đầu**\n",
        "Tạo một file Jupyter notebook với tên <\"MSSV\">_KT1.ipynb và tải lên thư mục trên google drive. Sau đó mở bằng google colab trên trình duyệt."
      ]
    },
    {
      "cell_type": "markdown",
      "metadata": {
        "id": "_9fEJ6-vNdal"
      },
      "source": [
        "**Sau khi làm xong thì lưu file này vào trong thư mục google drive và chia sẻ cho giảng viên đồng thời upload vào trang repo của mình.**\n",
        "\n",
        "\n"
      ]
    },
    {
      "cell_type": "markdown",
      "metadata": {
        "id": "d6s787UyDEfv"
      },
      "source": [
        "Bước 1. Tạo một cell trong jupyter notebook và gõ đoạn code sau để kết nối Jupyter notebook với google drive"
      ]
    },
    {
      "cell_type": "code",
      "metadata": {
        "id": "BjZp1htHDf44"
      },
      "source": [
        "from google.colab import drive\n",
        "#mount đến thư mục chứa file <\"MSSV\">_KT1.ipynb, ví dụ /gdrive/myname\n",
        "drive.mount('/gdrive/myname')"
      ],
      "execution_count": null,
      "outputs": []
    },
    {
      "cell_type": "markdown",
      "metadata": {
        "id": "6Yag_eufEEHg"
      },
      "source": [
        "**Câu 1:** Viết vào cell dưới đây chương trình Python nhận dữ liệu ngõ vào là một số nguyên dương. Nếu số nhập là số chẵn, sẽ in ra màn hình kết quả đoạn thông báo\"Đây là số chẵn\", nếu là số lẻ sẽ có thông báo \"Đây là số lẻ\""
      ]
    },
    {
      "cell_type": "code",
      "metadata": {
        "id": "F4SKEKRnEBIg",
        "colab": {
          "base_uri": "https://localhost:8080/"
        },
        "outputId": "307b69f1-e971-4d7e-c7ae-18e46b386fff"
      },
      "source": [
        "n = int(input(\"Nhap 1 so nguyen duong \"))\n",
        "if (n%2==0):\n",
        " print(\"so chan\" )\n",
        "else :\n",
        "  print(\"so le \")     "
      ],
      "execution_count": 63,
      "outputs": [
        {
          "output_type": "stream",
          "name": "stdout",
          "text": [
            "Nhap 1 so nguyen duong 3\n",
            "so le \n"
          ]
        }
      ]
    },
    {
      "cell_type": "markdown",
      "metadata": {
        "id": "z7IJt_RRE8II"
      },
      "source": [
        "**Câu 2**: Viết chương trình nhận số nguyên tố từ bàn phím với thông báo \"Bạn hãy nhập vào 1 số nguyên tố duy nhất\". Nếu đó là số nguyên tố thì dừng, nếu không thì chương trình sẽ liên tục in ra dòng thông báo \"Xin hãy nhập lại: \" để yêu cầu người dùng nhập, và sẽ chỉ kết thúc khi nhận được một số là số nguyên tố"
      ]
    },
    {
      "cell_type": "code",
      "metadata": {
        "id": "XO0ZRAJFBiNr",
        "colab": {
          "base_uri": "https://localhost:8080/"
        },
        "outputId": "2b9bd532-9d1f-4013-9170-7d89763fdb46"
      },
      "source": [
        " while True:\n",
        "    n = int(input(\"Nhap vao mot so nguyen to: \"))\n",
        "    flag=True\n",
        "    if (n<2):\n",
        "        flag= False\n",
        "    elif (n==2):\n",
        "        flag= True\n",
        "    elif (n%2==0):\n",
        "        flag= False\n",
        "    else:\n",
        "        for i in range(3,n,2):\n",
        "            if (n%i==0):\n",
        "                flag= False\n",
        "    if flag == True:\n",
        "        print(\"Day la so nguyen to\")\n",
        "        break\n",
        "    else:\n",
        "        print(\"Xin nhap lai\")"
      ],
      "execution_count": null,
      "outputs": [
        {
          "output_type": "stream",
          "name": "stdout",
          "text": [
            "Nhập vào một số nguyên tố: 4\n",
            "Xin nhập lại\n",
            "Nhập vào một số nguyên tố: 3\n",
            "Đây là số nguyên tố\n"
          ]
        }
      ]
    },
    {
      "cell_type": "markdown",
      "metadata": {
        "id": "qFR5oEhrF55C"
      },
      "source": [
        "**Câu 3:** Viết chương trình Python gồm một hàm có đối số là một mảng (list), chương trình sẽ in ra một mảng nghịch đảo thứ tự của mảng đầu vào. Giả sử mảng đầu vào cho trước"
      ]
    },
    {
      "cell_type": "code",
      "metadata": {
        "id": "vDb56hjKGc4L",
        "colab": {
          "base_uri": "https://localhost:8080/"
        },
        "outputId": "aab09b96-7f39-4923-f5ec-bec88d0cf722"
      },
      "source": [
        "array=[1,2,3,4,5,6]       \n",
        "array.reverse()\n",
        "print(array)\n",
        "\n"
      ],
      "execution_count": null,
      "outputs": [
        {
          "output_type": "stream",
          "name": "stdout",
          "text": [
            "[6, 5, 4, 3, 2, 1]\n"
          ]
        }
      ]
    },
    {
      "cell_type": "markdown",
      "metadata": {
        "id": "LLQniWZkGqBC"
      },
      "source": [
        "**Câu 4:** Viết chương trình in ra dãy Fibonaci với điều kiện số cuối nhỏ hơn một số nguyên dương cho trước được nhập ban đầu từ bàn phím"
      ]
    },
    {
      "cell_type": "code",
      "metadata": {
        "id": "ZY3aZ7IVGpSc",
        "colab": {
          "base_uri": "https://localhost:8080/"
        },
        "outputId": "dadddc59-9c20-467d-8eb9-a1889d9e5a00"
      },
      "source": [
        "\n",
        "def fibonacci(n):\n",
        "    f0 = 0;\n",
        "    f1 = 1;\n",
        "    fn = 1;\n",
        "  \n",
        "    if (n < 0):\n",
        "        return -1;\n",
        "    elif (n == 0 or n == 1):\n",
        "        return n;\n",
        "    else:\n",
        "        for i in range(2, n):\n",
        "            f0 = f1;\n",
        "            f1 = fn;\n",
        "            fn = f0 + f1;\n",
        "        return fn;\n",
        "  \n",
        "print(\"so cuoi nho hon mot so nguyen duong cho truoc: \");\n"
      ],
      "execution_count": 66,
      "outputs": [
        {
          "output_type": "stream",
          "name": "stdout",
          "text": [
            "so cuoi nho hon mot so nguyen duong cho truoc: \n"
          ]
        }
      ]
    },
    {
      "cell_type": "markdown",
      "metadata": {
        "id": "Qo8Li1BhHNkC"
      },
      "source": [
        "**Câu 5:** Viết chương trình nhập từ bàn phím một dãy n số phức gồm phần thực và ảo, với n được nhập từ bàn phím. Sau đó in ra màn hình một mảng n phần tử là các module của dãy số phức tương ứng"
      ]
    },
    {
      "cell_type": "code",
      "metadata": {
        "id": "czIWSxB4KlqS",
        "colab": {
          "base_uri": "https://localhost:8080/",
          "height": 128
        },
        "outputId": "61ab1dbe-89e6-40d0-ab0c-98ba1780b4f3"
      },
      "source": [
        "\n",
        "import cmath\n",
        "\n",
        "def complex_generator():\n",
        "  #Khởi tạo mảng số phức rỗng\n",
        "  complex_array = []\n",
        "  n=input(\" <Nội dung tùy ý>\": )\n",
        "  ....\n",
        "  #tạo vòng lặp trong phần code nay với số lần lặp n như trên\n",
        "  for i in range(int(n)):\n",
        "    # ở mỗi chu kỳ nhận dữ liệu từ bàn phím cho phần ảo và thực (nhập riêng sử dụng lệnh input)\n",
        "    #Nhập phần thực\n",
        "    ... \n",
        "    #Nhập phần ảo\n",
        "    ...\n",
        "    #Thêm vào màng số phức phần tử số phức đã nhập, biết rằng số phức có thể được tạo bởi hàm complex(m,n), với m,n là phần thực ảo tương ứng\n",
        "    complex_array.append(complex(m,n))\n",
        "  #Kết thúc vòng lặp, trả về mảng\n",
        "  return complex_array\n",
        "\n",
        "#Viết hàm thứ hai dùng để tính module số phức\n",
        "#hàm có đối số là số phức c\n",
        "def module_complex(c):\n",
        "  #c.real và c.imag sẽ trả về hai đại lượng thực và ảo tương ứng của số phức c\n",
        "  return cmath.sqrt((c.real)**2+(c.imag)**2).real\n",
        "\n",
        "#Viết chương trình tiếp để gọi hàm khởi tạo bên trên và trả về module tương ứng\n"
      ],
      "execution_count": null,
      "outputs": [
        {
          "output_type": "error",
          "ename": "SyntaxError",
          "evalue": "ignored",
          "traceback": [
            "\u001b[0;36m  File \u001b[0;32m\"<ipython-input-2-d751ade51ec4>\"\u001b[0;36m, line \u001b[0;32m9\u001b[0m\n\u001b[0;31m    n=input(\" <Nội dung tùy ý>\": )\u001b[0m\n\u001b[0m                               ^\u001b[0m\n\u001b[0;31mSyntaxError\u001b[0m\u001b[0;31m:\u001b[0m invalid syntax\n"
          ]
        }
      ]
    },
    {
      "cell_type": "markdown",
      "metadata": {
        "id": "iW8HDvwdBjTO"
      },
      "source": [
        ""
      ]
    }
  ]
}